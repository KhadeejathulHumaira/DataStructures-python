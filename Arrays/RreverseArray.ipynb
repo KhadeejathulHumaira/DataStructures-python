
a=[1,2,3,4,5,6,7,8,9]
mid=(len(a)//2)+1
for i in range(len(a)-1):
   if mid!=i:
      temp=a[i]
      a[i]=a[len(a)-1-i]
      a[len(a)-1-i]=temp
   else:
     break

print(a)
