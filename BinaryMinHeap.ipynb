{
  "nbformat": 4,
  "nbformat_minor": 0,
  "metadata": {
    "colab": {
      "name": "BinaryMinHeap.ipynb",
      "provenance": [],
      "collapsed_sections": [],
      "authorship_tag": "ABX9TyNcSKTBO3LYDQLydser/M8K",
      "include_colab_link": true
    },
    "kernelspec": {
      "name": "python3",
      "display_name": "Python 3"
    },
    "language_info": {
      "name": "python"
    }
  },
  "cells": [
    {
      "cell_type": "markdown",
      "metadata": {
        "id": "view-in-github",
        "colab_type": "text"
      },
      "source": [
        "<a href=\"https://colab.research.google.com/github/KhadeejathulHumaira/DataStructures-python/blob/main/BinaryMinHeap.ipynb\" target=\"_parent\"><img src=\"https://colab.research.google.com/assets/colab-badge.svg\" alt=\"Open In Colab\"/></a>"
      ]
    },
    {
      "cell_type": "code",
      "metadata": {
        "colab": {
          "base_uri": "https://localhost:8080/"
        },
        "id": "NFLaT15oT_4v",
        "outputId": "f548e780-3316-42e1-9164-0d5f2953bd25"
      },
      "source": [
        "##Binary  Min Heap\n",
        "class MinHeap:\n",
        "  def __init__(self,capacity):\n",
        "    self.storage=[0]*capacity ## This will set the value of the list in which we will be storing \n",
        "    self.capacity=capacity  \n",
        "    self.size=0 ## No of elements in our heap\n",
        "\n",
        "  def getParentIndex(self,index):\n",
        "    return (index-1)//2 \n",
        "\n",
        "  def getLeftChildIndex(self,index):\n",
        "    return 2*index+1\n",
        "    \n",
        "  def getRightChildIndex(self,index):\n",
        "    return 2*index+2\n",
        "\n",
        "  def hasParent(self,index):\n",
        "    return self.getParentIndex(index)>=0 \n",
        "    \n",
        "  def hasLeftChild(self,index):\n",
        "    return self.getLeftChildIndex(index)<self.size \n",
        "\n",
        "  def hasRightChild(self,index):\n",
        "    return self.getRightChildIndex(index)<self.size\n",
        "\n",
        "  def parent(self,index):\n",
        "    return self.storage[self.getParentIndex(index)]\n",
        "  \n",
        "  def leftChild(self,index):\n",
        "    return self.storage[self.getLeftChildIndex(index)]\n",
        "\n",
        "  def rightChild(self,index):\n",
        "    return self.storage[self.getRightChildIndex(index)]\n",
        "\n",
        "  def isFull(self):\n",
        "    return self.size==self.capacity\n",
        "\n",
        "  def swap(self,index1,index2):\n",
        "    temp=self.storage[index1]\n",
        "    self.storage[index1]=self.storage[index2]\n",
        "    self.storage[index2]=temp\n",
        "\n",
        "  def insert(self,data):\n",
        "    ## Checking whether the heap is full or not\n",
        "    if(self.isFull()):\n",
        "      print(\"Heap is Full\")\n",
        "    self.storage[self.size]=data\n",
        "    self.size+=1\n",
        "    self.heapifyUp(self.size-1)\n",
        "  \n",
        "  def heapifyUp(self,index):\n",
        "   if (self.hasParent(index) and self.parent(index)>self.storage[index]):\n",
        "      self.swap(self.getParentIndex(index),index)\n",
        "      self.heapifyUp(self.getParentIndex(index))\n",
        "\n",
        "  def removeMin(self):\n",
        "    if (self.size==0):\n",
        "      print(\"Empty Heap\")\n",
        "    data=self.storage[0]\n",
        "    self.storage[0]=self.storage[self.size-1]\n",
        "    self.size-=1\n",
        "    self.heapifyDown()\n",
        "    return data\n",
        "\n",
        "  def heapifyDown(self):\n",
        "    index=0\n",
        "    while(self.hasLeftChild(index)):\n",
        "      smallerChildIndex=self.getLeftChildIndex(index)\n",
        "      if (self.hasRightChild(index) and self.rightChild(index)<self.leftChild(index)):\n",
        "        smallerChildIndex=self.getRightChildIndex(index)\n",
        "      if (self.storage[index]<self.storage[smallerChildIndex]):\n",
        "        break\n",
        "      else:\n",
        "        self.swap(index,smallerChildIndex)\n",
        "      index=smallerChildIndex\n",
        "  \n",
        "  def Print(self):\n",
        "    for i in range(self.size):\n",
        "      print(self.storage[i])\n",
        "\n",
        "\n",
        "\n",
        "array1=[5,3,17,10,84,19,6,22,9]\n",
        "minHeap = MinHeap(len(array1))\n",
        "for i in array1:\n",
        "  minHeap.insert(i)\n",
        "print(\"the Solution \")\n",
        "minHeap.Print()\n",
        "\n",
        "\n",
        "\n",
        "\n"
      ],
      "execution_count": 25,
      "outputs": [
        {
          "output_type": "stream",
          "text": [
            "the Solution \n",
            "3\n",
            "5\n",
            "6\n",
            "9\n",
            "84\n",
            "19\n",
            "17\n",
            "22\n",
            "10\n"
          ],
          "name": "stdout"
        }
      ]
    }
  ]
}